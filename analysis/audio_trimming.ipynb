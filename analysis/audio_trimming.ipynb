{
 "cells": [
  {
   "cell_type": "code",
   "execution_count": null,
   "metadata": {},
   "outputs": [],
   "source": [
    "import os\n",
    "import json\n",
    "import pandas as pd\n",
    "\n",
    "from pydub import AudioSegment"
   ]
  },
  {
   "cell_type": "code",
   "execution_count": null,
   "metadata": {},
   "outputs": [],
   "source": [
    "dfpath = '/Users/f004p74/Dartmouth College Dropbox/Lindsey Tepfer/ctom/data/ratings/v1/'\n",
    "files = [x for x in os.listdir(dfpath) if '.csv' in x]\n",
    "files.sort()\n",
    "print(len(files)"
   ]
  },
  {
   "cell_type": "markdown",
   "metadata": {},
   "source": [
    "First, I calculate how much time has passed at each state in the experiment, creating a new column for each rating dataframe."
   ]
  },
  {
   "cell_type": "code",
   "execution_count": null,
   "metadata": {},
   "outputs": [],
   "source": [
    "for i in files:\n",
    "    try:\n",
    "        df = pd.read_csv(dfpath+i)\n",
    "        values = []\n",
    "        counter = 0\n",
    "\n",
    "        for ix in range(df.index.max()+1):\n",
    "            counter += df.loc[ix, \"RT\"]\n",
    "            values.append(counter)\n",
    "\n",
    "        df[\"TIME\"] = values\n",
    "\n",
    "        df.to_csv(dfpath+i)\n",
    "    except:\n",
    "        print(i, \"no RT\")"
   ]
  },
  {
   "cell_type": "markdown",
   "metadata": {},
   "source": [
    "Then, I find the timepoint in which each pair will (approximately) start their conversation trial by retreiving the 14th state (here, it's the 15th row, simply because it's shifted by 1) which is about where each pair should be ready to talk about their target. \n",
    "\n",
    "Importantly, this will not be exact -- most of the audio recordings were started before they began the experiment. This timepoint is a safe estimate to a) remove audio that is unrelated to the experiment (e.g., researcher instructions) and b) not accidentally trim out any of the conversation. However, this timepoint will still facilitate data processing by removing noise and reducing the size of each file.  "
   ]
  },
  {
   "cell_type": "code",
   "execution_count": null,
   "metadata": {},
   "outputs": [],
   "source": [
    "audio_data = '/Volumes/LT/phd/ctom/raw_audio'\n",
    "pair_list = [x for x in os.listdir(audio_data) if 'pair' in x]\n",
    "pair_list.sort()\n",
    "print(len(pair_list))"
   ]
  },
  {
   "cell_type": "code",
   "execution_count": null,
   "metadata": {},
   "outputs": [],
   "source": [
    "df = pd.DataFrame(columns=[[\"pair\", 'trim']])\n",
    "\n",
    "for pairid in pair_list:\n",
    "\n",
    "    try:\n",
    "\n",
    "        trim_data = []\n",
    "\n",
    "        subjects = [x for x in os.listdir(audio_data+os.sep+pairid+os.sep) if '.WAV' in x]\n",
    "        subid = subjects[0].split('.')[0].lower()\n",
    "\n",
    "        datafiles = [x for x in os.listdir(dfpath) if subid+'.csv' in x]\n",
    "\n",
    "        pair_df = pd.read_csv(dfpath+datafiles[0])\n",
    "\n",
    "        trim_time = pair_df.loc[15, \"TIME\"]\n",
    "\n",
    "        trim_data.extend([pairid, trim_time])\n",
    "\n",
    "        df.loc[len(df.index)] = trim_data\n",
    "    \n",
    "    except:\n",
    "        print('no TIME column for pair: ', pairid)"
   ]
  },
  {
   "cell_type": "markdown",
   "metadata": {},
   "source": [
    "Now, I read in the dataframe that has the trim information for each pair, and will use pydub to automatically trim the beginnings of both audio files so that they are temporally aligned. I will later manually trim the ends of the files as well, since they do not need to be the exact same, and will also reduce computational workload on our transcriptions.  "
   ]
  },
  {
   "cell_type": "code",
   "execution_count": null,
   "metadata": {},
   "outputs": [],
   "source": [
    "audio_data = '/Volumes/LT/phd/ctom/raw_audio'\n",
    "pair_list = [x for x in os.listdir(audio_data) if 'pair' in x]\n",
    "pair_list.sort()\n",
    "print(len(pair_list))\n",
    "\n",
    "df = pd.read_csv('/Users/f004p74/Dartmouth College Dropbox/Lindsey Tepfer/ctom/data/audio/v1_trim_times.csv')"
   ]
  },
  {
   "cell_type": "code",
   "execution_count": null,
   "metadata": {},
   "outputs": [],
   "source": [
    "out_path = '/Volumes/LT/phd/ctom/trimmed_audio/'\n",
    "\n",
    "for i in range(df.index.max()+1):\n",
    "    try:\n",
    "        pair = df.loc[i, \"pair\"]\n",
    "        start_time = df.loc[i, \"trim\"]\n",
    "        print(pair, start_time)\n",
    "\n",
    "        pair_files = os.listdir(audio_data+os.sep+pair+os.sep)\n",
    "\n",
    "        for wav in pair_files:\n",
    "            fname = wav.split('.')[0]\n",
    "            audio = AudioSegment.from_file(audio_data+os.sep+pair+os.sep+wav, format=\"WAV\") \n",
    "            audio_clipped = audio[start_time:] \n",
    "            audio_clipped.export(out_path+pair+os.sep+fname+\".WAV\", format=\"WAV\") \n",
    "    except:\n",
    "        print(\"skipping:\", pair)"
   ]
  },
  {
   "cell_type": "code",
   "execution_count": null,
   "metadata": {},
   "outputs": [],
   "source": [
    "# need to manually do pair-1 since I didn't log their reaction times for the first experiment!\n",
    "\n",
    "out_path = '/Volumes/LT/phd/ctom/trimmed_audio/'\n",
    "\n",
    "pair = 'pair-1'\n",
    "start_time = 240000\n",
    "print(pair, start_time)\n",
    "\n",
    "pair_files = [x for x in os.listdir(audio_data+os.sep+pair+os.sep) if 'SUB' in x]\n",
    "\n",
    "for wav in pair_files:\n",
    "    fname = wav.split('.')[0]\n",
    "    audio = AudioSegment.from_file(audio_data+os.sep+pair+os.sep+wav, format=\"WAV\") \n",
    "    audio_clipped = audio[start_time:] \n",
    "    audio_clipped.export(out_path+pair+os.sep+fname+\".WAV\", format=\"WAV\") "
   ]
  }
 ],
 "metadata": {
  "interpreter": {
   "hash": "aee8b7b246df8f9039afb4144a1f6fd8d2ca17a180786b69acc140d282b71a49"
  },
  "kernelspec": {
   "display_name": "Python 3.11.6 64-bit",
   "language": "python",
   "name": "python3"
  },
  "language_info": {
   "codemirror_mode": {
    "name": "ipython",
    "version": 3
   },
   "file_extension": ".py",
   "mimetype": "text/x-python",
   "name": "python",
   "nbconvert_exporter": "python",
   "pygments_lexer": "ipython3",
   "version": "3.11.7"
  },
  "orig_nbformat": 4
 },
 "nbformat": 4,
 "nbformat_minor": 2
}
