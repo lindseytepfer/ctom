{
 "cells": [
  {
   "cell_type": "code",
   "execution_count": null,
   "metadata": {},
   "outputs": [],
   "source": [
    "import whisperx\n",
    "import gc\n",
    "import os\n",
    "import json"
   ]
  },
  {
   "cell_type": "code",
   "execution_count": null,
   "metadata": {},
   "outputs": [],
   "source": [
    "device = 'cpu'\n",
    "batch_size = 8\n",
    "compute_type = 'int8'\n",
    "\n",
    "model = whisperx.load_model(\"base\", device, compute_type=compute_type, language='en')"
   ]
  },
  {
   "cell_type": "code",
   "execution_count": null,
   "metadata": {},
   "outputs": [],
   "source": [
    "rootpath = '/Users/lindseytepfer/Dartmouth College Dropbox/Lindsey Tepfer/ctom/data/audio/v1/'\n",
    "pairlist = [x for x in os.listdir(rootpath) if 'pair' in x]"
   ]
  },
  {
   "cell_type": "code",
   "execution_count": null,
   "metadata": {},
   "outputs": [],
   "source": [
    "for pairid in pairlist[0:1]:\n",
    "    audiofiles = os.listdir(rootpath+pairid)\n",
    "\n",
    "    print(\"starting with:\", pairid)\n",
    "\n",
    "    for wav in audiofiles[0:1]:\n",
    "        if len(audiofiles) > 0:\n",
    "            fname = wav.split('.')[0]\n",
    "            print('transcribing:', wav)\n",
    "\n",
    "            fpath = rootpath+pairid+os.sep+wav\n",
    "            batch_size = 16 # reduce if low on GPU mem\n",
    "        \n",
    "            print(fpath)\n",
    "\n",
    "            #Unaligned transcriptions\n",
    "            audio = whisperx.load_audio(fpath)\n",
    "            result = model.transcribe(audio, batch_size=batch_size)\n",
    "        \n",
    "            #Aligned transcriptions\n",
    "            model_a, metadata = whisperx.load_align_model(language_code=result[\"language\"], device=device)\n",
    "            result = whisperx.align(result[\"segments\"], model_a, metadata, audio, device, return_char_alignments=False)\n",
    "            \n",
    "            with open(fname+\".json\",\"w\") as write_file:\n",
    "                json.dump(result[\"segments\"],write_file)\n"
   ]
  }
 ],
 "metadata": {
  "kernelspec": {
   "display_name": "whisperx",
   "language": "python",
   "name": "python3"
  },
  "language_info": {
   "codemirror_mode": {
    "name": "ipython",
    "version": 3
   },
   "file_extension": ".py",
   "mimetype": "text/x-python",
   "name": "python",
   "nbconvert_exporter": "python",
   "pygments_lexer": "ipython3",
   "version": "3.10.13"
  }
 },
 "nbformat": 4,
 "nbformat_minor": 2
}
