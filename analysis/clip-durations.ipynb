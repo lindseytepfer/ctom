{
 "cells": [
  {
   "cell_type": "markdown",
   "metadata": {},
   "source": [
    "In version 2 of my 'collaborative theory of mind' experiment (ctom-online), I adjusted the 'video stimulus' trial so that the participants must wait for the entire duration of the video to finish playing before they could proceed. In this notebook, I read in all my videoclips with MoviePy and print out the durations of each clip. I take the durations in ms and place them into my experiment task code (experiment.jsx, lines 32-33). This allows my React application to toggle between hiding and showing a \"continue\" button at the moment a particular video clip's duration has passed. "
   ]
  },
  {
   "cell_type": "code",
   "execution_count": null,
   "metadata": {},
   "outputs": [],
   "source": [
    "import os\n",
    "from moviepy.editor import *"
   ]
  },
  {
   "cell_type": "code",
   "execution_count": null,
   "metadata": {},
   "outputs": [],
   "source": [
    "stim_path = '/Users/f004p74/Documents/dartmouth/projects/cTOM/task-v2/stimuli/'\n",
    "\n",
    "target_list = [x for x in os.listdir(stim_path) if 'target' in x]"
   ]
  },
  {
   "cell_type": "code",
   "execution_count": null,
   "metadata": {},
   "outputs": [],
   "source": [
    "for i in target_list:\n",
    "    clip = VideoFileClip(stim_path+i+\"/video.mp4\")\n",
    "    duration = clip.duration * 1000\n",
    "    print(i, duration)"
   ]
  }
 ],
 "metadata": {
  "interpreter": {
   "hash": "aee8b7b246df8f9039afb4144a1f6fd8d2ca17a180786b69acc140d282b71a49"
  },
  "kernelspec": {
   "display_name": "Python 3.11.6 64-bit",
   "language": "python",
   "name": "python3"
  },
  "language_info": {
   "codemirror_mode": {
    "name": "ipython",
    "version": 3
   },
   "file_extension": ".py",
   "mimetype": "text/x-python",
   "name": "python",
   "nbconvert_exporter": "python",
   "pygments_lexer": "ipython3",
   "version": "3.11.7"
  },
  "orig_nbformat": 4
 },
 "nbformat": 4,
 "nbformat_minor": 2
}
